{
  "nbformat": 4,
  "nbformat_minor": 0,
  "metadata": {
    "colab": {
      "provenance": [],
      "authorship_tag": "ABX9TyNW8VkgJ7O9GZeP2VxBAnHq",
      "include_colab_link": true
    },
    "kernelspec": {
      "name": "python3",
      "display_name": "Python 3"
    },
    "language_info": {
      "name": "python"
    }
  },
  "cells": [
    {
      "cell_type": "markdown",
      "metadata": {
        "id": "view-in-github",
        "colab_type": "text"
      },
      "source": [
        "<a href=\"https://colab.research.google.com/github/FeJoFeRa/topicoz_ia/blob/main/ClasificacionAlgoritmosFernando.ipynb\" target=\"_parent\"><img src=\"https://colab.research.google.com/assets/colab-badge.svg\" alt=\"Open In Colab\"/></a>"
      ]
    },
    {
      "cell_type": "markdown",
      "source": [
        "INSITUTO TECNOLOGICO DE CULIACAN\n",
        "ALUMNO: FERNANDO JOSE FELIX RAMOS\n",
        "NUM. CONTROL: 18170318\n",
        "CARRERA: ING. EN SISTEMAS COMPUACIONALES\n",
        "MATERIA: TOPICOS DE I.A.\n",
        "PROYECTO: Hacer la clasificacion del dataset IRIS en Python"
      ],
      "metadata": {
        "id": "XYHTI0syncbN"
      }
    },
    {
      "cell_type": "markdown",
      "source": [
        "Definicion del problema: Crear un modelo de inteligencia artificial que sea capaz de clasificar diferentes tipos de flores a travez de algoritmos de Machine Learning."
      ],
      "metadata": {
        "id": "Kfjzlp35ah0D"
      }
    },
    {
      "cell_type": "markdown",
      "source": [
        "Importamos las librerias que se utilizaran para manejar el dataset de Iris y los algoritmos de Machine Learning"
      ],
      "metadata": {
        "id": "_sY0AcBJD-xK"
      }
    },
    {
      "cell_type": "code",
      "execution_count": 70,
      "metadata": {
        "id": "oiDCSboSD6Pq"
      },
      "outputs": [],
      "source": [
        "import numpy as np\n",
        "import pandas as pd\n",
        "import matplotlib.pyplot as plt\n",
        "from sklearn.neighbors import KNeighborsClassifier\n",
        "from sklearn.svm import SVC\n",
        "from sklearn.tree import DecisionTreeClassifier\n",
        "from sklearn.linear_model import LogisticRegression\n",
        "from sklearn.model_selection import train_test_split"
      ]
    },
    {
      "cell_type": "markdown",
      "source": [
        "Preparamos los datos."
      ],
      "metadata": {
        "id": "7ZASjI0saw4N"
      }
    },
    {
      "cell_type": "markdown",
      "source": [
        "Importamos el dataset"
      ],
      "metadata": {
        "id": "xrLEkfEcFLn9"
      }
    },
    {
      "cell_type": "code",
      "source": [
        "iris = pd.read_csv(\"Iris.csv\")"
      ],
      "metadata": {
        "id": "IxurUmzqF0I3"
      },
      "execution_count": 3,
      "outputs": []
    },
    {
      "cell_type": "markdown",
      "source": [
        "Exploracion y analasis de los datos."
      ],
      "metadata": {
        "id": "NPQgNCrja4_C"
      }
    },
    {
      "cell_type": "markdown",
      "source": [
        "Observamos la informacion de la tabla de los datos del dataset Iris"
      ],
      "metadata": {
        "id": "_NGO87NcD-Kk"
      }
    },
    {
      "cell_type": "code",
      "source": [
        "print(iris.info())"
      ],
      "metadata": {
        "colab": {
          "base_uri": "https://localhost:8080/"
        },
        "id": "mvFXSOZ8GT9i",
        "outputId": "9745af01-953a-4b4f-f349-e9f3dd252f53"
      },
      "execution_count": 4,
      "outputs": [
        {
          "output_type": "stream",
          "name": "stdout",
          "text": [
            "<class 'pandas.core.frame.DataFrame'>\n",
            "RangeIndex: 150 entries, 0 to 149\n",
            "Data columns (total 6 columns):\n",
            " #   Column         Non-Null Count  Dtype  \n",
            "---  ------         --------------  -----  \n",
            " 0   Id             150 non-null    int64  \n",
            " 1   SepalLengthCm  150 non-null    float64\n",
            " 2   SepalWidthCm   150 non-null    float64\n",
            " 3   PetalLengthCm  150 non-null    float64\n",
            " 4   PetalWidthCm   150 non-null    float64\n",
            " 5   Species        150 non-null    object \n",
            "dtypes: float64(4), int64(1), object(1)\n",
            "memory usage: 7.2+ KB\n",
            "None\n"
          ]
        }
      ]
    },
    {
      "cell_type": "markdown",
      "source": [
        "Analisis de los registros, media, cantidad de registros, el minimo, desviacion estandar, el maximo y los cuartiles."
      ],
      "metadata": {
        "id": "SJMN5LduIrH-"
      }
    },
    {
      "cell_type": "code",
      "source": [
        "print(iris.describe())"
      ],
      "metadata": {
        "colab": {
          "base_uri": "https://localhost:8080/"
        },
        "id": "814pCjbJG0aN",
        "outputId": "c2643293-307a-4634-c62b-27239538356b"
      },
      "execution_count": 5,
      "outputs": [
        {
          "output_type": "stream",
          "name": "stdout",
          "text": [
            "               Id  SepalLengthCm  SepalWidthCm  PetalLengthCm  PetalWidthCm\n",
            "count  150.000000     150.000000    150.000000     150.000000    150.000000\n",
            "mean    75.500000       5.843333      3.054000       3.758667      1.198667\n",
            "std     43.445368       0.828066      0.433594       1.764420      0.763161\n",
            "min      1.000000       4.300000      2.000000       1.000000      0.100000\n",
            "25%     38.250000       5.100000      2.800000       1.600000      0.300000\n",
            "50%     75.500000       5.800000      3.000000       4.350000      1.300000\n",
            "75%    112.750000       6.400000      3.300000       5.100000      1.800000\n",
            "max    150.000000       7.900000      4.400000       6.900000      2.500000\n"
          ]
        }
      ]
    },
    {
      "cell_type": "markdown",
      "source": [
        "Se muestra cuantas registros hay de cada tipo de especie"
      ],
      "metadata": {
        "id": "f2Iv8s-DJqrc"
      }
    },
    {
      "cell_type": "code",
      "source": [
        "print(iris.groupby('Species').size())"
      ],
      "metadata": {
        "colab": {
          "base_uri": "https://localhost:8080/"
        },
        "id": "VxQMqOEXG7Ll",
        "outputId": "e784f0bb-2bce-4ed0-aef8-c7957329213f"
      },
      "execution_count": 6,
      "outputs": [
        {
          "output_type": "stream",
          "name": "stdout",
          "text": [
            "Species\n",
            "Iris-setosa        50\n",
            "Iris-versicolor    50\n",
            "Iris-virginica     50\n",
            "dtype: int64\n"
          ]
        }
      ]
    },
    {
      "cell_type": "markdown",
      "source": [
        "Se muestra el ancho y largo de los sepalos"
      ],
      "metadata": {
        "id": "JjFNyXtgM7Iy"
      }
    },
    {
      "cell_type": "code",
      "source": [
        "fig = iris[iris.Species == 'Iris-setosa'].plot(kind='scatter', x='SepalLengthCm', y='SepalWidthCm', color='blue', label='Setosa')\n",
        "iris[iris.Species == 'Iris-versicolor'].plot(kind='scatter', x='SepalLengthCm', y='SepalWidthCm', color='green', label='Versicolor', ax=fig)\n",
        "iris[iris.Species == 'Iris-virginica'].plot(kind='scatter', x='SepalLengthCm', y='SepalWidthCm', color='red', label='Virginica', ax=fig)\n",
        "\n",
        "fig.set_xlabel('Longitud')\n",
        "fig.set_ylabel('Ancho')\n",
        "fig.set_title('Longitud y Ancho')\n",
        "plt.show()"
      ],
      "metadata": {
        "colab": {
          "base_uri": "https://localhost:8080/",
          "height": 472
        },
        "id": "OuGEesjPNDVC",
        "outputId": "3d6642b5-6c49-4937-fc76-90b84b088263"
      },
      "execution_count": 9,
      "outputs": [
        {
          "output_type": "display_data",
          "data": {
            "text/plain": [
              "<Figure size 640x480 with 1 Axes>"
            ],
            "image/png": "[encoded data removed]"
          },
          "metadata": {}
        }
      ]
    },
    {
      "cell_type": "markdown",
      "source": [
        "Se muestra el ancho y largo de los petalos"
      ],
      "metadata": {
        "id": "2dxxKvKTNETK"
      }
    },
    {
      "cell_type": "code",
      "source": [
        "fig = iris[iris.Species == 'Iris-setosa'].plot(kind='scatter', x='PetalLengthCm', y='PetalWidthCm', color='blue', label='Setosa')\n",
        "iris[iris.Species == 'Iris-versicolor'].plot(kind='scatter', x='PetalLengthCm', y='PetalWidthCm', color='green', label='Versicolor', ax=fig)\n",
        "iris[iris.Species == 'Iris-virginica'].plot(kind='scatter', x='PetalLengthCm', y='PetalWidthCm', color='red', label='Virginica', ax=fig)\n",
        "\n",
        "fig.set_xlabel('Longitud')\n",
        "fig.set_ylabel('Ancho')\n",
        "fig.set_title('Longitud y Ancho')\n",
        "plt.show()"
      ],
      "metadata": {
        "colab": {
          "base_uri": "https://localhost:8080/",
          "height": 472
        },
        "id": "nuFnVOONM-Nv",
        "outputId": "7a561ce4-f552-4e40-8af2-59bf1c98ef0c"
      },
      "execution_count": 10,
      "outputs": [
        {
          "output_type": "display_data",
          "data": {
            "text/plain": [
              "<Figure size 640x480 with 1 Axes>"
            ],
            "image/png": "[encoded data removed]"
          },
          "metadata": {}
        }
      ]
    },
    {
      "cell_type": "markdown",
      "source": [
        "Se separan los datos de los registros de las especies"
      ],
      "metadata": {
        "id": "64ZbfMsrRoIb"
      }
    },
    {
      "cell_type": "code",
      "source": [
        "X = np.array(iris.drop(['Species'], 1))\n",
        "y = np.array(iris['Species'])"
      ],
      "metadata": {
        "colab": {
          "base_uri": "https://localhost:8080/"
        },
        "id": "Adu-oAX_Rsl9",
        "outputId": "cb2fb072-7436-4f47-ab06-bf6dcf532c6a"
      },
      "execution_count": 13,
      "outputs": [
        {
          "output_type": "stream",
          "name": "stderr",
          "text": [
            "<ipython-input-13-8bc2b51b4719>:1: FutureWarning: In a future version of pandas all arguments of DataFrame.drop except for the argument 'labels' will be keyword-only.\n",
            "  X = np.array(iris.drop(['Species'], 1))\n"
          ]
        }
      ]
    },
    {
      "cell_type": "markdown",
      "source": [
        "Ahora los datos estan separados para probar un 20% para comenzar con los entrenamientos."
      ],
      "metadata": {
        "id": "0oXvjaD3VBni"
      }
    },
    {
      "cell_type": "code",
      "source": [
        "X_train, X_test, y_train, y_test = train_test_split(X, y, test_size=0.2)\n",
        "\n",
        "print('Se separan '+str(X_train.shape[0])+' datos para entrenamiento y '+str(X_test.shape[0])+' datos para prueba')"
      ],
      "metadata": {
        "colab": {
          "base_uri": "https://localhost:8080/"
        },
        "id": "r10Egt2lVGpS",
        "outputId": "39d965d5-833a-440d-9a83-3a1d0ccfc83d"
      },
      "execution_count": 21,
      "outputs": [
        {
          "output_type": "stream",
          "name": "stdout",
          "text": [
            "Se separan 120 datos para entrenamiento y 30 datos para prueba\n"
          ]
        }
      ]
    },
    {
      "cell_type": "markdown",
      "source": [
        "APLICACION DE LOS ALGORITMOS DE MACHINE LEARNING"
      ],
      "metadata": {
        "id": "n2YljmvHilnr"
      }
    },
    {
      "cell_type": "markdown",
      "source": [
        "Comenzamos con el algortimos del KNN"
      ],
      "metadata": {
        "id": "PKmtMQm5X5Ly"
      }
    },
    {
      "cell_type": "code",
      "source": [
        "algoritmo = KNeighborsClassifier(n_neighbors=5)\n",
        "algoritmo.fit(X_train, y_train)\n",
        "Y_pred = algoritmo.predict(X_test)\n",
        "print('Precisión KNN: '+str(algoritmo.score(X_train, y_train))+'')"
      ],
      "metadata": {
        "colab": {
          "base_uri": "https://localhost:8080/"
        },
        "id": "ho8fRIeTX5u-",
        "outputId": "f0909f04-0d46-433c-f54e-7cf1e3c93283"
      },
      "execution_count": 53,
      "outputs": [
        {
          "output_type": "stream",
          "name": "stdout",
          "text": [
            "Precisión KNN: 1.0\n"
          ]
        }
      ]
    },
    {
      "cell_type": "markdown",
      "source": [
        "\n",
        "Se entrenan con el 80% de los datos, luego se prueban con el 20%\n",
        "El algoritmo KNN obtiene una precision del 100%\n"
      ],
      "metadata": {
        "id": "DfZxda05X5JF"
      }
    },
    {
      "cell_type": "markdown",
      "source": [
        "segundo, arbol de decision"
      ],
      "metadata": {
        "id": "GMKggMlNbooS"
      }
    },
    {
      "cell_type": "code",
      "source": [
        "algoritmo = DecisionTreeClassifier()\n",
        "algoritmo.fit(X_train, y_train)\n",
        "Y_pred = algoritmo.predict(X_test)\n",
        "print('Precisión Árboles de Decisión: '+str(algoritmo.score(X_train, y_train)))"
      ],
      "metadata": {
        "colab": {
          "base_uri": "https://localhost:8080/"
        },
        "id": "pP8Kd-Uabmtx",
        "outputId": "1ff6eb5c-e20a-45b6-9ecd-89ce00923905"
      },
      "execution_count": 59,
      "outputs": [
        {
          "output_type": "stream",
          "name": "stdout",
          "text": [
            "Precisión Árboles de Decisión: 1.0\n"
          ]
        }
      ]
    },
    {
      "cell_type": "markdown",
      "source": [
        "Se entrenan con el 80% de los datos, luego se prueban con el 20%\n",
        "El algoritmo arbol de decision obtiene una precision del 100%"
      ],
      "metadata": {
        "id": "qtRs3Ooqbnyn"
      }
    },
    {
      "cell_type": "markdown",
      "source": [
        "tercero, SVM"
      ],
      "metadata": {
        "id": "UTmWd6LQeXME"
      }
    },
    {
      "cell_type": "code",
      "source": [
        "algoritmo = SVC()\n",
        "algoritmo.fit(X_train, y_train)\n",
        "Y_pred = algoritmo.predict(X_test)\n",
        "print('Precisión SVM:'+str(algoritmo.score(X_train, y_train)))"
      ],
      "metadata": {
        "colab": {
          "base_uri": "https://localhost:8080/"
        },
        "id": "zNt1lEBle0nP",
        "outputId": "c4075301-33fb-46c9-ba11-5b25e093b4e9"
      },
      "execution_count": 71,
      "outputs": [
        {
          "output_type": "stream",
          "name": "stdout",
          "text": [
            "Precisión SVM:0.9833333333333333\n"
          ]
        }
      ]
    },
    {
      "cell_type": "markdown",
      "source": [
        "Se entrenan con el 80% de los datos, luego se prueban con el 20%\n",
        "El algoritmo SVM obtiene una precision del 98%\n",
        "El cual indica que los otros dos tienen mejor precision."
      ],
      "metadata": {
        "id": "u8qBAIXQfCYP"
      }
    },
    {
      "cell_type": "markdown",
      "source": [
        "cuarto, modelo de regresion logistico"
      ],
      "metadata": {
        "id": "yTRUGm4DfqKE"
      }
    },
    {
      "cell_type": "code",
      "source": [
        "algoritmo = LogisticRegression()\n",
        "algoritmo.fit(X_train, y_train)\n",
        "Y_pred = algoritmo.predict(X_test)\n",
        "print('Precisión Regresión Logístico:'+str(algoritmo.score(X_train, y_train)))"
      ],
      "metadata": {
        "colab": {
          "base_uri": "https://localhost:8080/"
        },
        "id": "1oqqwhK4fnce",
        "outputId": "64759cec-04b2-4032-cd64-9d8fe8ea144e"
      },
      "execution_count": 67,
      "outputs": [
        {
          "output_type": "stream",
          "name": "stdout",
          "text": [
            "Precisión Regresión Logística:1.0\n"
          ]
        },
        {
          "output_type": "stream",
          "name": "stderr",
          "text": [
            "/usr/local/lib/python3.10/dist-packages/sklearn/linear_model/_logistic.py:458: ConvergenceWarning: lbfgs failed to converge (status=1):\n",
            "STOP: TOTAL NO. of ITERATIONS REACHED LIMIT.\n",
            "\n",
            "Increase the number of iterations (max_iter) or scale the data as shown in:\n",
            "    https://scikit-learn.org/stable/modules/preprocessing.html\n",
            "Please also refer to the documentation for alternative solver options:\n",
            "    https://scikit-learn.org/stable/modules/linear_model.html#logistic-regression\n",
            "  n_iter_i = _check_optimize_result(\n"
          ]
        }
      ]
    },
    {
      "cell_type": "markdown",
      "source": [
        "Se entrenan con el 80% de los datos, luego se prueban con el 20% El algoritmo regresion logistico obtiene una precision del 100% El cual indica que los otros dos tienen mejor precision."
      ],
      "metadata": {
        "id": "9BU9rdCOg-c6"
      }
    },
    {
      "cell_type": "markdown",
      "source": [
        "Se comparan los resultados de precision de cada algoritmo utilizando 20% de los datos como entrenamiento y :\n",
        "\n",
        "1.   KNN tiene una precision del 100% utilizando 5 vecinos con el algoritmo\n",
        "2.   Arbol de deciscion tiene una precision de prediccion del 100%\n",
        "3.   SVM tiene una precision de prediccion del 98%\n",
        "4.   Modelo de regresion logistico tiene una precision de prediccion del 100%\n",
        "\n",
        "\n",
        "\n",
        "\n",
        "\n",
        "\n",
        "\n",
        "\n"
      ],
      "metadata": {
        "id": "uRS6IHVAiqPI"
      }
    }
  ]
}